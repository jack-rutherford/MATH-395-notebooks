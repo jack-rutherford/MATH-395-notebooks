{
 "cells": [
  {
   "cell_type": "code",
   "execution_count": null,
   "id": "127b9ef8-44b4-446c-9136-6355c4535fbe",
   "metadata": {},
   "outputs": [],
   "source": [
    "import numpy as np\n",
    "from matplotlib import pyplot as plt\n",
    "from sklearn.decomposition import PCA\n",
    "import scipy.io\n",
    "from sklearn.neighbors import NearestCentroid\n",
    "from sklearn.neighbors import KNeighborsClassifier\n",
    "from sklearn.metrics import accuracy_score, confusion_matrix, ConfusionMatrixDisplay"
   ]
  },
  {
   "cell_type": "markdown",
   "id": "489b504a-5516-43bd-9e4d-b5b40841cf8b",
   "metadata": {},
   "source": [
    "### load data"
   ]
  },
  {
   "cell_type": "code",
   "execution_count": null,
   "id": "83714c26-0791-4a3c-943d-bead7bf699ec",
   "metadata": {},
   "outputs": [],
   "source": [
    "mat = scipy.io.loadmat('fashion.mat')"
   ]
  },
  {
   "cell_type": "code",
   "execution_count": null,
   "id": "9c9c53af-b750-440c-947a-251c214699ac",
   "metadata": {},
   "outputs": [],
   "source": [
    "X_train = mat['Xtr']\n",
    "y_train = mat['ytr']\n",
    "X_test = mat['Xtst']\n",
    "y_test = mat['ytst']\n",
    "\n",
    "X_train.shape, y_train.shape, X_test.shape, y_test.shape"
   ]
  },
  {
   "cell_type": "markdown",
   "id": "e498c1de-df4a-4fbc-b842-2944769fe6e1",
   "metadata": {
    "tags": []
   },
   "source": [
    "### 1. nearest centroid classification with original images (no pca yet)"
   ]
  },
  {
   "cell_type": "code",
   "execution_count": null,
   "id": "68e3b7f7-7a51-4c61-b037-bf1660007ddb",
   "metadata": {},
   "outputs": [],
   "source": [
    "clf = NearestCentroid()\n",
    "clf.fit(X_train, y_train.ravel())\n",
    "\n",
    "y_pred = clf.predict(X_test)\n",
    "\n",
    "print('error = ', 1- accuracy_score(y_test,y_pred))"
   ]
  },
  {
   "cell_type": "code",
   "execution_count": null,
   "id": "b7bee2b5-1566-4685-9388-f055f55d44f3",
   "metadata": {},
   "outputs": [],
   "source": [
    "cm = confusion_matrix(y_test, y_pred)\n",
    "\n",
    "disp = ConfusionMatrixDisplay(confusion_matrix=cm,\n",
    "                             display_labels=clf.classes_)\n",
    "disp.plot();"
   ]
  },
  {
   "cell_type": "markdown",
   "id": "ac2a2b47-6cc3-45f8-b720-a1aa2f01d821",
   "metadata": {
    "tags": []
   },
   "source": [
    "### 2. Apply PCA to reduce dimension first and then perform k nearest neighbor (kNN) classification (Euclidean distance, no weighting).\n",
    "\n",
    "For this data set, 50 dimensions might no longer be the best choice. So there are two parameters to be tuned: m (number of pca dimensions) and k (number of nearest neighbors).\n",
    "\n",
    "A large scale grid search over (m,k) could find the optimal pair in terms of test error (or validation error). However, it will be slow.\n",
    "\n",
    "Here, let us fix m to a small number of values such as 50, 100, 150 (feel free to change these numbers). For each value of m, perform PCA to project both the training and test data into the same m dimensional space. Afterwards, perform kNN classification on the m-dimensional PCA reduced data, for k = 1, 2, ..., 12. Plot the test errors against k, one curve for each fixed value of m.\n",
    "\n",
    "What is a good choice of the pair (m,k), in terms of test error?"
   ]
  },
  {
   "cell_type": "code",
   "execution_count": null,
   "id": "a25bfdee-42f2-4874-ba37-52970a39be51",
   "metadata": {},
   "outputs": [],
   "source": []
  },
  {
   "cell_type": "markdown",
   "id": "b16a8a33-ba2b-4601-b586-63ab122d1fbf",
   "metadata": {},
   "source": [
    "### 3 For the best value of m found above, perform unweighted kNN classification with city block distance ($\\ell_1$) for k = 1,2,..., 12. \n",
    "\n",
    "Plot the test errors against k. How does it compare with unweighted kNN + Euclidean metric ($\\ell_2$)?"
   ]
  },
  {
   "cell_type": "code",
   "execution_count": null,
   "id": "d3df3529-9d89-4472-8df5-123a316671a5",
   "metadata": {},
   "outputs": [],
   "source": []
  },
  {
   "cell_type": "markdown",
   "id": "394c66f8-af07-480e-8724-4640735ef8a8",
   "metadata": {},
   "source": [
    "### 4. For the best value of m found above, perform kNN classification + Euclidean metric, with inverse distance weights, for k = 1,2,...,12. \n",
    "\n",
    "Plot the test errors against k.  How does the weighted kNN compare with the unweighted kNN (both with Euclidean metric)"
   ]
  },
  {
   "cell_type": "code",
   "execution_count": null,
   "id": "12333012-ab4e-4bb9-8c36-4a363186da7d",
   "metadata": {},
   "outputs": [],
   "source": []
  },
  {
   "cell_type": "markdown",
   "id": "406d6889-2879-46f5-baad-6982dd01d4bb",
   "metadata": {
    "tags": []
   },
   "source": [
    "### 5. Implment the nearest local centroid classifier (with Euclidean distance) and apply it to the m-dimensional PCA reduced data for various values of k. \n",
    "\n",
    "Plot the test errors against k."
   ]
  },
  {
   "cell_type": "code",
   "execution_count": null,
   "id": "e02307bd-3640-4fb6-80cc-931caff9a686",
   "metadata": {},
   "outputs": [],
   "source": []
  }
 ],
 "metadata": {
  "kernelspec": {
   "display_name": "Python 3 (ipykernel)",
   "language": "python",
   "name": "python3"
  },
  "language_info": {
   "codemirror_mode": {
    "name": "ipython",
    "version": 3
   },
   "file_extension": ".py",
   "mimetype": "text/x-python",
   "name": "python",
   "nbconvert_exporter": "python",
   "pygments_lexer": "ipython3",
   "version": "3.10.9"
  }
 },
 "nbformat": 4,
 "nbformat_minor": 5
}
