{
 "cells": [
  {
   "cell_type": "markdown",
   "id": "b8bfd5cd-a694-4a1f-a263-2a05b3171949",
   "metadata": {
    "tags": []
   },
   "source": [
    "### Math 395 Learning from Large Data Sets, Hope College, Fall 2024"
   ]
  },
  {
   "cell_type": "markdown",
   "id": "42635245-ce6f-4b3e-a41c-394e51a3d41a",
   "metadata": {},
   "source": [
    "# Assignment 4 - Logistic regression on the wine quality data to predict wine type\n",
    "\n",
    "First download the data set from the following url:\n",
    "\n",
    "https://archive.ics.uci.edu/dataset/186/wine+quality\n",
    "\n",
    "and then unzip it to make a subfolder, called winequality, under your Python working directory (where you have been storing the python scripts from this course).\n",
    "\n",
    "In this assignment, you are asked to fit a variety of logistic regression models on the wine quality data set, with wine type (categorical variable) as the target variable."
   ]
  },
  {
   "cell_type": "code",
   "execution_count": null,
   "id": "d729e46e-4246-4360-a49a-8e54e82b77f1",
   "metadata": {},
   "outputs": [],
   "source": [
    "import pandas as pd\n",
    "import numpy as np\n",
    "import matplotlib.pyplot as plt"
   ]
  },
  {
   "cell_type": "markdown",
   "id": "c9f88e5f-820d-44c8-a577-65cd895e22f8",
   "metadata": {},
   "source": [
    "## First, let us load the two types of wine (red and white) into Python separately. \n",
    "\n",
    "We will combine them together later to produce a single data set (with wine type as a categorical variable)."
   ]
  },
  {
   "cell_type": "code",
   "execution_count": null,
   "id": "8a0b91a4-d3e6-4400-ad8b-149f25997b91",
   "metadata": {},
   "outputs": [],
   "source": [
    "redwine = pd.read_table(\"winequality/winequality-red.csv\", sep=';')\n",
    "redwine.head()"
   ]
  },
  {
   "cell_type": "code",
   "execution_count": null,
   "id": "1f3a0947-2891-46ff-b2c0-c4bddb1437c2",
   "metadata": {},
   "outputs": [],
   "source": [
    "redwine.info()"
   ]
  },
  {
   "cell_type": "code",
   "execution_count": null,
   "id": "43df0999-14f5-4c9e-a981-9d0894d7c015",
   "metadata": {},
   "outputs": [],
   "source": [
    "redwine.describe()"
   ]
  },
  {
   "cell_type": "code",
   "execution_count": null,
   "id": "c962026c-e6b7-4b6c-b622-05d799971f6d",
   "metadata": {},
   "outputs": [],
   "source": [
    "whitewine = pd.read_table(\"winequality/winequality-white.csv\", sep=';')\n",
    "whitewine"
   ]
  },
  {
   "cell_type": "markdown",
   "id": "e80d5a80-4d30-48cb-b6eb-9949400bd1f2",
   "metadata": {},
   "source": [
    "Merge the two types of wine to create an expanded data set"
   ]
  },
  {
   "cell_type": "code",
   "execution_count": null,
   "id": "9b657ef8-a40e-4f31-9c57-7f47870bf3f1",
   "metadata": {},
   "outputs": [],
   "source": [
    "allwine = pd.concat([redwine, whitewine], ignore_index=True)\n",
    "allwine"
   ]
  },
  {
   "cell_type": "markdown",
   "id": "65301e80-de6b-4e1a-9a3d-ba198f63fa5e",
   "metadata": {},
   "source": [
    "Define a new variable to record the wine type (1 : red, 0 : white)"
   ]
  },
  {
   "cell_type": "code",
   "execution_count": null,
   "id": "ea648fc5-8987-4eea-b41e-c0c65f2cc5ea",
   "metadata": {},
   "outputs": [],
   "source": [
    "winetype = np.concatenate((np.ones(redwine.shape[0]), np.zeros(whitewine.shape[0])))\n",
    "allwine[\"winetype\"] = winetype\n",
    "allwine"
   ]
  },
  {
   "cell_type": "markdown",
   "id": "79d6fe8b-3721-4ef6-840b-53837f4eca15",
   "metadata": {},
   "source": [
    "## Do all of the following now. \n",
    "\n",
    "We are not splitting the training data into two parts this time, i.e., we use the whole data set for training. Keep in mind that all the errors to be computed below (except the regularized model) are training errors. "
   ]
  },
  {
   "cell_type": "markdown",
   "id": "a32fabb8-83c6-4a0c-a5be-d66d00ce186b",
   "metadata": {
    "tags": []
   },
   "source": [
    "### (a) Visualize the target variable (wine type) and a few (at least 2) other variables of your choice individually"
   ]
  },
  {
   "cell_type": "code",
   "execution_count": null,
   "id": "978fb819-d81c-4f37-a016-c54365cb16fb",
   "metadata": {},
   "outputs": [],
   "source": []
  },
  {
   "cell_type": "markdown",
   "id": "adc0697f-4100-4276-8940-e69032d19b38",
   "metadata": {
    "tags": []
   },
   "source": [
    "### (b) Make a few scatterplots between wine type and each of several (at least 2) features you think would be best predictors"
   ]
  },
  {
   "cell_type": "code",
   "execution_count": null,
   "id": "bfe619a8-de1e-4469-94a2-977bd77a16a1",
   "metadata": {},
   "outputs": [],
   "source": []
  },
  {
   "cell_type": "markdown",
   "id": "356a60e8-d5df-4d3a-a6c9-01e9f457b119",
   "metadata": {},
   "source": [
    "Fit a logistic regression model with the best predictor you found. Plot the model along with the data. What is the training error? "
   ]
  },
  {
   "cell_type": "code",
   "execution_count": null,
   "id": "256b7bca-b62d-491e-ab54-88ebc6fd0bef",
   "metadata": {},
   "outputs": [],
   "source": []
  },
  {
   "cell_type": "markdown",
   "id": "c8dd0690-503e-4fa9-a583-94b896009591",
   "metadata": {},
   "source": [
    "### (c) Check multicollinearity among all the features (including wine quality this time), through correlation matrix (which reveals pairwise correlations) and the condition number (overall correlation among all features). \n",
    "\n",
    "Comment on your findings. "
   ]
  },
  {
   "cell_type": "code",
   "execution_count": null,
   "id": "3d96811f-dce6-48da-95bc-235a9abf143c",
   "metadata": {},
   "outputs": [],
   "source": []
  },
  {
   "cell_type": "markdown",
   "id": "4d13efc9-1a18-4e60-85e1-bb37d46a491a",
   "metadata": {},
   "source": [
    "Standardize all the features."
   ]
  },
  {
   "cell_type": "code",
   "execution_count": null,
   "id": "47713332-d39f-44ac-9203-94d395274317",
   "metadata": {},
   "outputs": [],
   "source": []
  },
  {
   "cell_type": "markdown",
   "id": "3db83baa-b9ec-4b58-868f-a7fa85bd36c0",
   "metadata": {
    "tags": []
   },
   "source": [
    "### (d) Perform logistic regression on the training data with all features included (we call this the full model). \n",
    "\n",
    "Compute the misclassification error for the full model on the training data."
   ]
  },
  {
   "cell_type": "code",
   "execution_count": null,
   "id": "c5769e41-cba2-4f85-9f7a-df7d0c1c5738",
   "metadata": {},
   "outputs": [],
   "source": []
  },
  {
   "cell_type": "markdown",
   "id": "9185bf60-97d3-44f6-8281-8bfeb552a715",
   "metadata": {},
   "source": [
    "Plot the feature coefficients and label those largest (in magnitude) with the feature names. Which features seem to be the most useful predictors?"
   ]
  },
  {
   "cell_type": "code",
   "execution_count": null,
   "id": "1ed1d189-a449-4207-b673-780151a794d9",
   "metadata": {},
   "outputs": [],
   "source": []
  },
  {
   "cell_type": "markdown",
   "id": "348af73c-20b2-4f0a-bbff-adb77d968cbd",
   "metadata": {},
   "source": [
    "Fit a logistic regression model with the two most important features (in terms of magnitude of coefficients). Report the training error and plot the decision boundary."
   ]
  },
  {
   "cell_type": "code",
   "execution_count": null,
   "id": "8040aad0-7862-4008-9692-63ed748ae500",
   "metadata": {},
   "outputs": [],
   "source": []
  },
  {
   "cell_type": "markdown",
   "id": "18cc2c65-896c-4df0-bb2a-88514fe317d0",
   "metadata": {
    "tags": []
   },
   "source": [
    "## (e) Fit a $\\ell_1$ regularized logistic regression model with the optimal alpha parameter (which is found by using cross validation) and apply it to the full training data. \n",
    "\n",
    "What is the training error of the validated model?"
   ]
  },
  {
   "cell_type": "code",
   "execution_count": null,
   "id": "ac0e7ac0-f495-45f1-8973-bf79e14969bf",
   "metadata": {},
   "outputs": [],
   "source": []
  },
  {
   "cell_type": "markdown",
   "id": "5611f425-a5ad-41b3-a7ca-26190a38709d",
   "metadata": {},
   "source": [
    "Which predictors are kept and which ones are excluded from the full model? Which features are the most important (in terms of magnitude of coefficients)?"
   ]
  },
  {
   "cell_type": "code",
   "execution_count": null,
   "id": "1f5ffdcb-4e84-4c3d-a5ec-4559bdeac644",
   "metadata": {},
   "outputs": [],
   "source": []
  },
  {
   "cell_type": "markdown",
   "id": "85c84352-de59-4acd-8e20-ec9508e6914e",
   "metadata": {},
   "source": [
    "Fit a logistic regression model with the top two features. Report the training error and plot the decision boundary."
   ]
  },
  {
   "cell_type": "code",
   "execution_count": null,
   "id": "34e3fafb-f570-4ebc-9534-fab161b9bacd",
   "metadata": {},
   "outputs": [],
   "source": []
  },
  {
   "cell_type": "markdown",
   "id": "f058c69d-8b2f-41f1-90b9-f9391e382e29",
   "metadata": {},
   "source": [
    "For the above model (with top two features), find the confusion matrix and use it to compute the precision, recall and F1 score."
   ]
  },
  {
   "cell_type": "code",
   "execution_count": null,
   "id": "0a8d65c0-9e1e-442e-b7e9-b0472f63704c",
   "metadata": {},
   "outputs": [],
   "source": []
  },
  {
   "cell_type": "markdown",
   "id": "b8dcaac7-3988-4920-818b-fc996b787f7a",
   "metadata": {},
   "source": [
    "## (f) Summarize your findings."
   ]
  },
  {
   "cell_type": "code",
   "execution_count": null,
   "id": "7076e8f7-9f66-425f-997d-5e886177cdce",
   "metadata": {},
   "outputs": [],
   "source": []
  }
 ],
 "metadata": {
  "kernelspec": {
   "display_name": "Python 3 (ipykernel)",
   "language": "python",
   "name": "python3"
  },
  "language_info": {
   "codemirror_mode": {
    "name": "ipython",
    "version": 3
   },
   "file_extension": ".py",
   "mimetype": "text/x-python",
   "name": "python",
   "nbconvert_exporter": "python",
   "pygments_lexer": "ipython3",
   "version": "3.10.9"
  }
 },
 "nbformat": 4,
 "nbformat_minor": 5
}
