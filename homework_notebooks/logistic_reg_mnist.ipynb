{
 "cells": [
  {
   "cell_type": "markdown",
   "id": "99290648-7d5c-4ce9-9a2c-d6a3e411f03c",
   "metadata": {},
   "source": [
    "# Logistic regression on the MNIST handwritten digits\n",
    "\n",
    "In this miniproject, you are asked to apply logistic regression to solve the problem of handwritten digit recognition. The data set being used below is rather large in both size and dimension. To speed up computing, you can use PCA to reduce the dimension considerably. You will then apply logistic regression (no regularization) to the dimension reduced data.\n",
    "\n",
    "Note: One could use the regularization technique (as an alternative to PCA) to handle the many features. It would also effectively handle the issue of multicollinearity but computing is rather intensive.\n"
   ]
  },
  {
   "cell_type": "markdown",
   "id": "c97aeb07-749a-4f12-a395-c79a24903542",
   "metadata": {},
   "source": [
    "Import libraries"
   ]
  },
  {
   "cell_type": "code",
   "execution_count": null,
   "id": "127b9ef8-44b4-446c-9136-6355c4535fbe",
   "metadata": {},
   "outputs": [],
   "source": [
    "import numpy as np\n",
    "from matplotlib import pyplot as plt\n",
    "from sklearn.linear_model import LogisticRegression\n",
    "from sklearn.decomposition import PCA\n",
    "import scipy.io"
   ]
  },
  {
   "cell_type": "markdown",
   "id": "a89788b5-480d-4d8f-8d81-ca2690d843f7",
   "metadata": {},
   "source": [
    "load the MNIST data set (you need to first download the file mnist.mat and save it in the same place with the notebook)"
   ]
  },
  {
   "cell_type": "code",
   "execution_count": null,
   "id": "83714c26-0791-4a3c-943d-bead7bf699ec",
   "metadata": {},
   "outputs": [],
   "source": [
    "mat = scipy.io.loadmat('mnist.mat')\n",
    "mat"
   ]
  },
  {
   "cell_type": "code",
   "execution_count": null,
   "id": "9c9c53af-b750-440c-947a-251c214699ac",
   "metadata": {},
   "outputs": [],
   "source": [
    "X_train = mat['Xtr']\n",
    "y_train = mat['ytr']\n",
    "X_test = mat['Xtst']\n",
    "y_test = mat['ytst']\n",
    "\n",
    "X_train.shape, y_train.shape, X_test.shape, y_test.shape"
   ]
  },
  {
   "cell_type": "markdown",
   "id": "bc994a3c-f8ac-41b4-b7f1-8201b91c262d",
   "metadata": {},
   "source": [
    "Apply PCA to reduce the dimension from 784 to 50"
   ]
  },
  {
   "cell_type": "code",
   "execution_count": null,
   "id": "ed633b39-57ff-404f-8c45-2a7566f23911",
   "metadata": {},
   "outputs": [],
   "source": [
    "pca50 = PCA(n_components=50).fit(X_train)\n",
    "\n",
    "X_train_pca = pca50.transform(X_train)\n",
    "X_test_pca = pca50.transform(X_test)\n",
    "\n",
    "X_train_pca.shape, X_test_pca.shape"
   ]
  },
  {
   "cell_type": "markdown",
   "id": "bb33a18b-9df8-4580-afaf-a1211b6faf5c",
   "metadata": {},
   "source": [
    "The following experiments are all based on the dimension reduced data (training and test)."
   ]
  },
  {
   "cell_type": "markdown",
   "id": "8339d506-bb06-4aa6-9fbc-cf6a5d2f1224",
   "metadata": {},
   "source": [
    "## (1) Classifying a pair of digits"
   ]
  },
  {
   "cell_type": "markdown",
   "id": "6be05096-15a0-4c5d-bcda-57ac4178fe0f",
   "metadata": {},
   "source": [
    "First, let's consider the pair $\\mathbf{\\{0,1\\}}$, which should be relatively easy. Train a binary logistic regression classifier on all the training images that contain either digit and evaluate the trained classifer on the test images containing one of the two digits. Display the confusion matrix. What is the overall classification error?"
   ]
  },
  {
   "cell_type": "code",
   "execution_count": null,
   "id": "419021ff-b876-4fad-a8a5-0eca46ae9fe7",
   "metadata": {},
   "outputs": [],
   "source": [
    "\n",
    "\n",
    "\n",
    "\n",
    "\n"
   ]
  },
  {
   "cell_type": "markdown",
   "id": "893ee40e-f7b9-4dd9-873b-a1dd7138a26a",
   "metadata": {},
   "source": [
    "Do the same thing with the pair $\\mathbf{\\{1,7\\}}$ instead. How does it compare with the pair {0,1} in terms of overall error?"
   ]
  },
  {
   "cell_type": "code",
   "execution_count": null,
   "id": "d0698db3-8f68-4bab-9a53-6c289ad101f1",
   "metadata": {},
   "outputs": [],
   "source": [
    "\n",
    "\n",
    "\n",
    "\n",
    "\n"
   ]
  },
  {
   "cell_type": "markdown",
   "id": "15d8427f-e93e-4a43-8e40-dad9dc108b29",
   "metadata": {},
   "source": [
    "Which pair of digits do you think are the hardest to distinguish? Perform binary logistic regression with those images (training and test) and report the overall error."
   ]
  },
  {
   "cell_type": "code",
   "execution_count": null,
   "id": "e2cf40ff-c49d-4c3e-bc3c-2e02d863e646",
   "metadata": {},
   "outputs": [],
   "source": [
    "\n",
    "\n",
    "\n",
    "\n",
    "\n",
    "\n"
   ]
  },
  {
   "cell_type": "markdown",
   "id": "783f92cf-11e3-4d32-9c9a-aa2eaa639d4e",
   "metadata": {
    "tags": []
   },
   "source": [
    "## (2) Classifying three digits together"
   ]
  },
  {
   "cell_type": "markdown",
   "id": "24a110f3-62c5-4670-a106-be15e69c0f0d",
   "metadata": {},
   "source": [
    "Consider the triple of digits $\\mathbf{\\{0,1,2\\}}$, which should also be relatively easy. We need to train a multiclass logistic regression classifier on all the training images that contain the three digit and evaluate the trained classifer on the test images containing one of the three digits. There are three ways to extend binary logistic regression to the multiclass setting."
   ]
  },
  {
   "cell_type": "markdown",
   "id": "16bebaa7-9fb2-4244-9a69-53abe7b86cad",
   "metadata": {},
   "source": [
    "(2a) Perform the $\\textbf{one-versus-rest}$ multiclass logistic regression on the three digits {0,1,2} and report the overall test error."
   ]
  },
  {
   "cell_type": "code",
   "execution_count": null,
   "id": "eb9be291-b03d-4cff-aaf0-1ad38d643030",
   "metadata": {},
   "outputs": [],
   "source": [
    "\n",
    "\n",
    "\n",
    "\n",
    "\n",
    "\n"
   ]
  },
  {
   "cell_type": "markdown",
   "id": "61a13a34-8c1f-4e34-bfc9-395a78e24b49",
   "metadata": {
    "jp-MarkdownHeadingCollapsed": true,
    "tags": []
   },
   "source": [
    "(2b) Perform $\\textbf{multinomial}$ logistic regression with the three digits {0,1,2} and report the overall test error."
   ]
  },
  {
   "cell_type": "code",
   "execution_count": null,
   "id": "f2459fea-5e61-43cc-b8c2-a52992211762",
   "metadata": {},
   "outputs": [],
   "source": [
    "\n",
    "\n",
    "\n",
    "\n",
    "\n",
    "\n",
    "\n"
   ]
  },
  {
   "cell_type": "markdown",
   "id": "4b8f5b7a-bd3b-4388-9399-32ec7971241e",
   "metadata": {},
   "source": [
    "(2c) Perform the $\\textbf{one-versus-one}$ multiclass logistic regression on the three digits {0,1,2} and report the overall test error. You will need to implment this extension from scratch first."
   ]
  },
  {
   "cell_type": "code",
   "execution_count": null,
   "id": "a3db1384-5d45-45ba-a510-f20895954715",
   "metadata": {},
   "outputs": [],
   "source": [
    "\n",
    "\n",
    "\n",
    "\n",
    "\n",
    "\n",
    "\n"
   ]
  },
  {
   "cell_type": "markdown",
   "id": "ef5c473c-f583-48f1-844f-2dce60a85349",
   "metadata": {},
   "source": [
    "(2d) Which combination of three digits do you think are the hardest to distinguish? Perform each of the three extensions of multiclass logistic regression with those images (training and test) and report the overall test errors (using a bar plot)."
   ]
  },
  {
   "cell_type": "code",
   "execution_count": null,
   "id": "25be7373-e156-4804-910b-29bcd1071d89",
   "metadata": {},
   "outputs": [],
   "source": [
    "\n",
    "\n",
    "\n",
    "\n",
    "\n",
    "\n"
   ]
  },
  {
   "cell_type": "markdown",
   "id": "0ad74f30-6d46-4c2f-bab4-d6afa2e8e6b5",
   "metadata": {},
   "source": [
    "### (3) Classify all 10 digits simultaneously"
   ]
  },
  {
   "cell_type": "markdown",
   "id": "db407d38-8146-4a29-988f-ab4f3bc99165",
   "metadata": {},
   "source": [
    "Perform each of the three extensions of multiclass logistic regression with the full data set and report the overall test errors (using a bar plot)."
   ]
  },
  {
   "cell_type": "code",
   "execution_count": null,
   "id": "d848835d-8c99-44c2-a6c2-37d88793ebcf",
   "metadata": {},
   "outputs": [],
   "source": [
    "\n",
    "\n",
    "\n",
    "\n",
    "\n",
    "\n",
    "\n",
    "\n"
   ]
  },
  {
   "cell_type": "markdown",
   "id": "42062de5-79d9-432a-8051-4d87f8cc1255",
   "metadata": {},
   "source": [
    "Summarize your findings by commenting on which version of multiclass logistic regression works the best on the handwritten digits dataset and which digits are the hardest to be distinguished from the rest."
   ]
  },
  {
   "cell_type": "code",
   "execution_count": null,
   "id": "f5d9db75-14af-49ae-9aac-4c29ce7ce897",
   "metadata": {},
   "outputs": [],
   "source": [
    "\n",
    "\n",
    "\n",
    "\n",
    "\n",
    "\n",
    "\n",
    "\n"
   ]
  }
 ],
 "metadata": {
  "kernelspec": {
   "display_name": "Python 3",
   "language": "python",
   "name": "python3"
  },
  "language_info": {
   "codemirror_mode": {
    "name": "ipython",
    "version": 3
   },
   "file_extension": ".py",
   "mimetype": "text/x-python",
   "name": "python",
   "nbconvert_exporter": "python",
   "pygments_lexer": "ipython3",
   "version": "3.11.9"
  }
 },
 "nbformat": 4,
 "nbformat_minor": 5
}
