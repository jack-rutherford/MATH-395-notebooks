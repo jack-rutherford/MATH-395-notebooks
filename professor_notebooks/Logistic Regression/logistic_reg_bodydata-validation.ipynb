{
 "cells": [
  {
   "cell_type": "markdown",
   "id": "c201919e-9f72-4824-9159-94582e05c0b3",
   "metadata": {
    "tags": []
   },
   "source": [
    "# Logistic regression on the body data set (with validation)\n",
    "Math 395 Learning from Large Data Sets \n",
    "\n",
    "Fall 2024, Hope College"
   ]
  },
  {
   "cell_type": "code",
   "execution_count": 1,
   "id": "569c84f6-378d-40f5-897d-237a9339093f",
   "metadata": {},
   "outputs": [],
   "source": [
    "import pandas as pd\n",
    "import numpy as np\n",
    "from scipy import linalg as LA\n",
    "import matplotlib.pyplot as plt\n",
    "from sklearn.linear_model import LogisticRegression\n",
    "from sklearn.preprocessing import StandardScaler "
   ]
  },
  {
   "cell_type": "markdown",
   "id": "54d0ca21-ae55-42f2-9566-6a1f716bc52e",
   "metadata": {},
   "source": [
    "## load the data set, separate response from features, and scale the features"
   ]
  },
  {
   "cell_type": "code",
   "execution_count": 2,
   "id": "83d9e1e5-201e-4ac9-95e0-60b62a7971aa",
   "metadata": {},
   "outputs": [
    {
     "data": {
      "text/html": [
       "<div>\n",
       "<style scoped>\n",
       "    .dataframe tbody tr th:only-of-type {\n",
       "        vertical-align: middle;\n",
       "    }\n",
       "\n",
       "    .dataframe tbody tr th {\n",
       "        vertical-align: top;\n",
       "    }\n",
       "\n",
       "    .dataframe thead th {\n",
       "        text-align: right;\n",
       "    }\n",
       "</style>\n",
       "<table border=\"1\" class=\"dataframe\">\n",
       "  <thead>\n",
       "    <tr style=\"text-align: right;\">\n",
       "      <th></th>\n",
       "      <th>0</th>\n",
       "      <th>1</th>\n",
       "      <th>2</th>\n",
       "      <th>3</th>\n",
       "      <th>4</th>\n",
       "      <th>5</th>\n",
       "      <th>6</th>\n",
       "      <th>7</th>\n",
       "      <th>8</th>\n",
       "      <th>9</th>\n",
       "      <th>...</th>\n",
       "      <th>15</th>\n",
       "      <th>16</th>\n",
       "      <th>17</th>\n",
       "      <th>18</th>\n",
       "      <th>19</th>\n",
       "      <th>20</th>\n",
       "      <th>21</th>\n",
       "      <th>22</th>\n",
       "      <th>23</th>\n",
       "      <th>24</th>\n",
       "    </tr>\n",
       "  </thead>\n",
       "  <tbody>\n",
       "    <tr>\n",
       "      <th>0</th>\n",
       "      <td>42.9</td>\n",
       "      <td>26.0</td>\n",
       "      <td>31.5</td>\n",
       "      <td>17.7</td>\n",
       "      <td>28.0</td>\n",
       "      <td>13.1</td>\n",
       "      <td>10.4</td>\n",
       "      <td>18.8</td>\n",
       "      <td>14.1</td>\n",
       "      <td>106.2</td>\n",
       "      <td>...</td>\n",
       "      <td>32.5</td>\n",
       "      <td>26.0</td>\n",
       "      <td>34.5</td>\n",
       "      <td>36.5</td>\n",
       "      <td>23.5</td>\n",
       "      <td>16.5</td>\n",
       "      <td>21.0</td>\n",
       "      <td>65.6</td>\n",
       "      <td>174.0</td>\n",
       "      <td>1</td>\n",
       "    </tr>\n",
       "    <tr>\n",
       "      <th>1</th>\n",
       "      <td>43.7</td>\n",
       "      <td>28.5</td>\n",
       "      <td>33.5</td>\n",
       "      <td>16.9</td>\n",
       "      <td>30.8</td>\n",
       "      <td>14.0</td>\n",
       "      <td>11.8</td>\n",
       "      <td>20.6</td>\n",
       "      <td>15.1</td>\n",
       "      <td>110.5</td>\n",
       "      <td>...</td>\n",
       "      <td>34.4</td>\n",
       "      <td>28.0</td>\n",
       "      <td>36.5</td>\n",
       "      <td>37.5</td>\n",
       "      <td>24.5</td>\n",
       "      <td>17.0</td>\n",
       "      <td>23.0</td>\n",
       "      <td>71.8</td>\n",
       "      <td>175.3</td>\n",
       "      <td>1</td>\n",
       "    </tr>\n",
       "    <tr>\n",
       "      <th>2</th>\n",
       "      <td>40.1</td>\n",
       "      <td>28.2</td>\n",
       "      <td>33.3</td>\n",
       "      <td>20.9</td>\n",
       "      <td>31.7</td>\n",
       "      <td>13.9</td>\n",
       "      <td>10.9</td>\n",
       "      <td>19.7</td>\n",
       "      <td>14.1</td>\n",
       "      <td>115.1</td>\n",
       "      <td>...</td>\n",
       "      <td>33.4</td>\n",
       "      <td>28.8</td>\n",
       "      <td>37.0</td>\n",
       "      <td>37.3</td>\n",
       "      <td>21.9</td>\n",
       "      <td>16.9</td>\n",
       "      <td>28.0</td>\n",
       "      <td>80.7</td>\n",
       "      <td>193.5</td>\n",
       "      <td>1</td>\n",
       "    </tr>\n",
       "    <tr>\n",
       "      <th>3</th>\n",
       "      <td>44.3</td>\n",
       "      <td>29.9</td>\n",
       "      <td>34.0</td>\n",
       "      <td>18.4</td>\n",
       "      <td>28.2</td>\n",
       "      <td>13.9</td>\n",
       "      <td>11.2</td>\n",
       "      <td>20.9</td>\n",
       "      <td>15.0</td>\n",
       "      <td>104.5</td>\n",
       "      <td>...</td>\n",
       "      <td>31.0</td>\n",
       "      <td>26.2</td>\n",
       "      <td>37.0</td>\n",
       "      <td>34.8</td>\n",
       "      <td>23.0</td>\n",
       "      <td>16.6</td>\n",
       "      <td>23.0</td>\n",
       "      <td>72.6</td>\n",
       "      <td>186.5</td>\n",
       "      <td>1</td>\n",
       "    </tr>\n",
       "    <tr>\n",
       "      <th>4</th>\n",
       "      <td>42.5</td>\n",
       "      <td>29.9</td>\n",
       "      <td>34.0</td>\n",
       "      <td>21.5</td>\n",
       "      <td>29.4</td>\n",
       "      <td>15.2</td>\n",
       "      <td>11.6</td>\n",
       "      <td>20.7</td>\n",
       "      <td>14.9</td>\n",
       "      <td>107.5</td>\n",
       "      <td>...</td>\n",
       "      <td>32.0</td>\n",
       "      <td>28.4</td>\n",
       "      <td>37.7</td>\n",
       "      <td>38.6</td>\n",
       "      <td>24.4</td>\n",
       "      <td>18.0</td>\n",
       "      <td>22.0</td>\n",
       "      <td>78.8</td>\n",
       "      <td>187.2</td>\n",
       "      <td>1</td>\n",
       "    </tr>\n",
       "    <tr>\n",
       "      <th>...</th>\n",
       "      <td>...</td>\n",
       "      <td>...</td>\n",
       "      <td>...</td>\n",
       "      <td>...</td>\n",
       "      <td>...</td>\n",
       "      <td>...</td>\n",
       "      <td>...</td>\n",
       "      <td>...</td>\n",
       "      <td>...</td>\n",
       "      <td>...</td>\n",
       "      <td>...</td>\n",
       "      <td>...</td>\n",
       "      <td>...</td>\n",
       "      <td>...</td>\n",
       "      <td>...</td>\n",
       "      <td>...</td>\n",
       "      <td>...</td>\n",
       "      <td>...</td>\n",
       "      <td>...</td>\n",
       "      <td>...</td>\n",
       "      <td>...</td>\n",
       "    </tr>\n",
       "    <tr>\n",
       "      <th>502</th>\n",
       "      <td>38.0</td>\n",
       "      <td>30.4</td>\n",
       "      <td>32.9</td>\n",
       "      <td>17.0</td>\n",
       "      <td>27.1</td>\n",
       "      <td>12.9</td>\n",
       "      <td>10.4</td>\n",
       "      <td>19.5</td>\n",
       "      <td>14.4</td>\n",
       "      <td>108.4</td>\n",
       "      <td>...</td>\n",
       "      <td>30.3</td>\n",
       "      <td>25.4</td>\n",
       "      <td>37.7</td>\n",
       "      <td>37.9</td>\n",
       "      <td>22.4</td>\n",
       "      <td>15.4</td>\n",
       "      <td>29.0</td>\n",
       "      <td>71.8</td>\n",
       "      <td>176.5</td>\n",
       "      <td>0</td>\n",
       "    </tr>\n",
       "    <tr>\n",
       "      <th>503</th>\n",
       "      <td>35.3</td>\n",
       "      <td>28.7</td>\n",
       "      <td>30.4</td>\n",
       "      <td>17.7</td>\n",
       "      <td>25.6</td>\n",
       "      <td>12.4</td>\n",
       "      <td>9.8</td>\n",
       "      <td>17.3</td>\n",
       "      <td>13.6</td>\n",
       "      <td>99.3</td>\n",
       "      <td>...</td>\n",
       "      <td>30.1</td>\n",
       "      <td>23.6</td>\n",
       "      <td>35.6</td>\n",
       "      <td>33.3</td>\n",
       "      <td>22.4</td>\n",
       "      <td>15.2</td>\n",
       "      <td>21.0</td>\n",
       "      <td>55.5</td>\n",
       "      <td>164.4</td>\n",
       "      <td>0</td>\n",
       "    </tr>\n",
       "    <tr>\n",
       "      <th>504</th>\n",
       "      <td>34.7</td>\n",
       "      <td>24.9</td>\n",
       "      <td>24.7</td>\n",
       "      <td>17.3</td>\n",
       "      <td>24.2</td>\n",
       "      <td>12.0</td>\n",
       "      <td>10.2</td>\n",
       "      <td>18.0</td>\n",
       "      <td>13.6</td>\n",
       "      <td>91.9</td>\n",
       "      <td>...</td>\n",
       "      <td>27.4</td>\n",
       "      <td>24.0</td>\n",
       "      <td>34.4</td>\n",
       "      <td>34.1</td>\n",
       "      <td>21.2</td>\n",
       "      <td>15.5</td>\n",
       "      <td>33.0</td>\n",
       "      <td>48.6</td>\n",
       "      <td>160.7</td>\n",
       "      <td>0</td>\n",
       "    </tr>\n",
       "    <tr>\n",
       "      <th>505</th>\n",
       "      <td>38.5</td>\n",
       "      <td>29.0</td>\n",
       "      <td>32.9</td>\n",
       "      <td>15.3</td>\n",
       "      <td>25.6</td>\n",
       "      <td>12.0</td>\n",
       "      <td>9.8</td>\n",
       "      <td>18.6</td>\n",
       "      <td>13.3</td>\n",
       "      <td>107.1</td>\n",
       "      <td>...</td>\n",
       "      <td>30.6</td>\n",
       "      <td>24.9</td>\n",
       "      <td>38.4</td>\n",
       "      <td>36.6</td>\n",
       "      <td>22.0</td>\n",
       "      <td>15.5</td>\n",
       "      <td>33.0</td>\n",
       "      <td>66.4</td>\n",
       "      <td>174.0</td>\n",
       "      <td>0</td>\n",
       "    </tr>\n",
       "    <tr>\n",
       "      <th>506</th>\n",
       "      <td>35.6</td>\n",
       "      <td>29.0</td>\n",
       "      <td>29.0</td>\n",
       "      <td>20.4</td>\n",
       "      <td>26.8</td>\n",
       "      <td>13.4</td>\n",
       "      <td>10.8</td>\n",
       "      <td>18.7</td>\n",
       "      <td>13.8</td>\n",
       "      <td>100.5</td>\n",
       "      <td>...</td>\n",
       "      <td>33.2</td>\n",
       "      <td>25.5</td>\n",
       "      <td>39.6</td>\n",
       "      <td>35.9</td>\n",
       "      <td>23.0</td>\n",
       "      <td>16.4</td>\n",
       "      <td>38.0</td>\n",
       "      <td>67.3</td>\n",
       "      <td>163.8</td>\n",
       "      <td>0</td>\n",
       "    </tr>\n",
       "  </tbody>\n",
       "</table>\n",
       "<p>507 rows × 25 columns</p>\n",
       "</div>"
      ],
      "text/plain": [
       "       0     1     2     3     4     5     6     7     8      9   ...    15  \\\n",
       "0    42.9  26.0  31.5  17.7  28.0  13.1  10.4  18.8  14.1  106.2  ...  32.5   \n",
       "1    43.7  28.5  33.5  16.9  30.8  14.0  11.8  20.6  15.1  110.5  ...  34.4   \n",
       "2    40.1  28.2  33.3  20.9  31.7  13.9  10.9  19.7  14.1  115.1  ...  33.4   \n",
       "3    44.3  29.9  34.0  18.4  28.2  13.9  11.2  20.9  15.0  104.5  ...  31.0   \n",
       "4    42.5  29.9  34.0  21.5  29.4  15.2  11.6  20.7  14.9  107.5  ...  32.0   \n",
       "..    ...   ...   ...   ...   ...   ...   ...   ...   ...    ...  ...   ...   \n",
       "502  38.0  30.4  32.9  17.0  27.1  12.9  10.4  19.5  14.4  108.4  ...  30.3   \n",
       "503  35.3  28.7  30.4  17.7  25.6  12.4   9.8  17.3  13.6   99.3  ...  30.1   \n",
       "504  34.7  24.9  24.7  17.3  24.2  12.0  10.2  18.0  13.6   91.9  ...  27.4   \n",
       "505  38.5  29.0  32.9  15.3  25.6  12.0   9.8  18.6  13.3  107.1  ...  30.6   \n",
       "506  35.6  29.0  29.0  20.4  26.8  13.4  10.8  18.7  13.8  100.5  ...  33.2   \n",
       "\n",
       "       16    17    18    19    20    21    22     23  24  \n",
       "0    26.0  34.5  36.5  23.5  16.5  21.0  65.6  174.0   1  \n",
       "1    28.0  36.5  37.5  24.5  17.0  23.0  71.8  175.3   1  \n",
       "2    28.8  37.0  37.3  21.9  16.9  28.0  80.7  193.5   1  \n",
       "3    26.2  37.0  34.8  23.0  16.6  23.0  72.6  186.5   1  \n",
       "4    28.4  37.7  38.6  24.4  18.0  22.0  78.8  187.2   1  \n",
       "..    ...   ...   ...   ...   ...   ...   ...    ...  ..  \n",
       "502  25.4  37.7  37.9  22.4  15.4  29.0  71.8  176.5   0  \n",
       "503  23.6  35.6  33.3  22.4  15.2  21.0  55.5  164.4   0  \n",
       "504  24.0  34.4  34.1  21.2  15.5  33.0  48.6  160.7   0  \n",
       "505  24.9  38.4  36.6  22.0  15.5  33.0  66.4  174.0   0  \n",
       "506  25.5  39.6  35.9  23.0  16.4  38.0  67.3  163.8   0  \n",
       "\n",
       "[507 rows x 25 columns]"
      ]
     },
     "execution_count": 2,
     "metadata": {},
     "output_type": "execute_result"
    }
   ],
   "source": [
    "df = pd.read_table('bodydata.txt', header = None, sep='\\s+')\n",
    "df"
   ]
  },
  {
   "cell_type": "code",
   "execution_count": 3,
   "id": "02b9d0fd-42c2-496c-9b4b-1bc4aec0bb7a",
   "metadata": {},
   "outputs": [
    {
     "data": {
      "text/plain": [
       "((507, 24), (507,))"
      ]
     },
     "execution_count": 3,
     "metadata": {},
     "output_type": "execute_result"
    }
   ],
   "source": [
    "y = df[[24]].values.ravel() # sex\n",
    "\n",
    "X = df[df.columns.drop([24])]  # matrix of all features (without weight)\n",
    "X_norm = StandardScaler().fit_transform(X) ## standardize features\n",
    "\n",
    "X.shape, y.shape"
   ]
  },
  {
   "cell_type": "markdown",
   "id": "cb43079d-cb04-40ee-abf6-d83b6a0c3fe8",
   "metadata": {},
   "source": [
    "## randomly partition the data into training (80%) and test (20%)"
   ]
  },
  {
   "cell_type": "code",
   "execution_count": 4,
   "id": "b024ae3c-d51b-4d13-ac7f-af641eeae881",
   "metadata": {
    "tags": []
   },
   "outputs": [
    {
     "data": {
      "text/plain": [
       "((405, 24), (405,), (102, 24), (102,))"
      ]
     },
     "execution_count": 4,
     "metadata": {},
     "output_type": "execute_result"
    }
   ],
   "source": [
    "from sklearn.model_selection import train_test_split\n",
    "\n",
    "X_train, X_test, y_train, y_test = train_test_split(X_norm, y, test_size=0.2, random_state=14)\n",
    "\n",
    "n_train = X_train.shape[0]\n",
    "n_test = X_test.shape[0]\n",
    "\n",
    "X_train.shape, y_train.shape, X_test.shape, y_test.shape"
   ]
  },
  {
   "cell_type": "markdown",
   "id": "8b6e6e87-aa51-4daa-b1bc-4e53ef59b8f9",
   "metadata": {},
   "source": [
    "## Compute training and validation errors of different logistic regression models "
   ]
  },
  {
   "cell_type": "markdown",
   "id": "034306af-f7f0-4a75-b55b-93a8c49943c2",
   "metadata": {},
   "source": [
    "### sex ~ thigh girth + forearm girth"
   ]
  },
  {
   "cell_type": "code",
   "execution_count": 5,
   "id": "7cab7136-95a9-4e32-b380-1be2f6004cb9",
   "metadata": {},
   "outputs": [
    {
     "name": "stdout",
     "output_type": "stream",
     "text": [
      "training error =  0.024691358024691357\n",
      "validation error =  0.049019607843137254\n"
     ]
    }
   ],
   "source": [
    "logisticModel_thigh_forearm = LogisticRegression(C=1e5).fit(X_train[:, [14,16]], y_train)\n",
    "\n",
    "pred_train = logisticModel_thigh_forearm.predict(X_train[:,[14,16]]) \n",
    "train_error_thigh_forearm = np.sum(np.abs(pred_train-y_train)) / n_train\n",
    "print('training error = ', train_error_thigh_forearm)\n",
    "\n",
    "pred_test = logisticModel_thigh_forearm.predict(X_test[:,[14,16]]) \n",
    "test_error_thigh_forearm = np.sum(np.abs(pred_test-y_test)) / n_test\n",
    "print('validation error = ', test_error_thigh_forearm)"
   ]
  },
  {
   "cell_type": "code",
   "execution_count": 6,
   "id": "3b8ef0a5-a4d4-4f43-b644-91b1ee2d7fbc",
   "metadata": {},
   "outputs": [
    {
     "data": {
      "text/plain": [
       "(array([[203,   4],\n",
       "        [  6, 192]]),\n",
       " array([[51,  2],\n",
       "        [ 3, 46]]))"
      ]
     },
     "execution_count": 6,
     "metadata": {},
     "output_type": "execute_result"
    }
   ],
   "source": [
    "from sklearn.metrics import confusion_matrix\n",
    "\n",
    "confusion_matrix(y_train, pred_train), confusion_matrix(y_test, pred_test)"
   ]
  },
  {
   "cell_type": "markdown",
   "id": "e940b8e9-e9fa-46ac-9659-f36cc1d9c5e8",
   "metadata": {
    "tags": []
   },
   "source": [
    "### sex ~ height"
   ]
  },
  {
   "cell_type": "code",
   "execution_count": null,
   "id": "f39ff8ba-5b8c-409d-933b-044ab153c370",
   "metadata": {},
   "outputs": [],
   "source": []
  },
  {
   "cell_type": "markdown",
   "id": "cb20f654-6b33-44be-84c8-12e3dd819161",
   "metadata": {},
   "source": [
    "### sex ~ height+weight"
   ]
  },
  {
   "cell_type": "code",
   "execution_count": null,
   "id": "ab123d7e-35cd-4d35-8500-0ee75048e361",
   "metadata": {},
   "outputs": [],
   "source": []
  },
  {
   "cell_type": "markdown",
   "id": "af808b55-7831-43d2-bd5d-97efa8190a06",
   "metadata": {},
   "source": [
    "### sex ~ all the features"
   ]
  },
  {
   "cell_type": "code",
   "execution_count": null,
   "id": "b90225d9-101e-4bde-84d5-fefe0a0f31d7",
   "metadata": {},
   "outputs": [],
   "source": []
  },
  {
   "cell_type": "markdown",
   "id": "154eb007-c190-4962-91a9-67c0b184f025",
   "metadata": {},
   "source": [
    "### $\\ell_1$-regularized logistic regression with all features ($C=0.1$)"
   ]
  },
  {
   "cell_type": "code",
   "execution_count": null,
   "id": "1ec01200-3b53-487d-9f95-23fd9367d319",
   "metadata": {},
   "outputs": [],
   "source": []
  },
  {
   "cell_type": "markdown",
   "id": "e3f45082-63d0-418d-8633-7a7fecc744ee",
   "metadata": {},
   "source": [
    "## plot training and validation errors together"
   ]
  },
  {
   "cell_type": "code",
   "execution_count": null,
   "id": "416d9e44-d927-430b-9b9f-69c16200207b",
   "metadata": {},
   "outputs": [],
   "source": []
  }
 ],
 "metadata": {
  "kernelspec": {
   "display_name": "Python 3 (ipykernel)",
   "language": "python",
   "name": "python3"
  },
  "language_info": {
   "codemirror_mode": {
    "name": "ipython",
    "version": 3
   },
   "file_extension": ".py",
   "mimetype": "text/x-python",
   "name": "python",
   "nbconvert_exporter": "python",
   "pygments_lexer": "ipython3",
   "version": "3.10.9"
  }
 },
 "nbformat": 4,
 "nbformat_minor": 5
}
