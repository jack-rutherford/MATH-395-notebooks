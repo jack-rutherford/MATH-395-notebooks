{
 "cells": [
  {
   "cell_type": "code",
   "execution_count": null,
   "id": "d77de91d-e5a6-4397-86b1-e99e459f2c3d",
   "metadata": {},
   "outputs": [],
   "source": [
    "import numpy as np # linear algebra\n",
    "import pandas as pd # data processing, CSV file I/O (e.g. pd.read_csv)\n",
    "\n",
    "#import the necessary libraries for logictic regression\n",
    "from sklearn.model_selection import train_test_split\n",
    "from sklearn.linear_model import LogisticRegression\n",
    "\n",
    "# For metrics and helpful functions\n",
    "from sklearn.metrics import accuracy_score, precision_score, recall_score,\\\n",
    "f1_score, confusion_matrix, ConfusionMatrixDisplay, classification_report\n",
    "\n",
    "# import packages for visualizations\n",
    "import matplotlib.pyplot as plt"
   ]
  },
  {
   "cell_type": "code",
   "execution_count": null,
   "id": "df5a0684-e513-4e86-82d2-a17e87c90792",
   "metadata": {},
   "outputs": [],
   "source": [
    "from sklearn import datasets\n",
    "\n",
    "iris = datasets.load_iris()\n",
    "iris.target_names"
   ]
  },
  {
   "cell_type": "code",
   "execution_count": null,
   "id": "4fd58df8-d6bd-4cb8-87a3-ae19b90148f3",
   "metadata": {},
   "outputs": [],
   "source": [
    "from sklearn.decomposition import PCA\n",
    "\n",
    "X_reduced = PCA(n_components=2).fit_transform(iris.data)\n",
    "\n",
    "fig = plt.figure(1, figsize=(6, 4))\n",
    "ax = fig.add_subplot()\n",
    "ax.scatter(\n",
    "    X_reduced[:, 0],\n",
    "    X_reduced[:, 1],\n",
    "    c=iris.target,\n",
    "    s=40,\n",
    ")\n",
    "\n",
    "#plt.legend(iris.target_names)\n",
    "\n",
    "ax.set_title(\"First twp PCA dimensions\")\n",
    "ax.set_xlabel(\"X1\")\n",
    "#ax.xaxis.set_ticklabels([])\n",
    "ax.set_ylabel(\"X2\")\n",
    "#ax.yaxis.set_ticklabels([])\n",
    "\n",
    "plt.show()\n"
   ]
  },
  {
   "cell_type": "code",
   "execution_count": null,
   "id": "2ba47784-9ed9-4e19-81df-8580d761fb63",
   "metadata": {},
   "outputs": [],
   "source": [
    "y = iris.target\n",
    "plt.hist(y, bins=5)\n",
    "#plt.set_xticklabels(iris.target_names)\n",
    "plt.xlabel('height (cm)');\n",
    "plt.ylabel('count');"
   ]
  },
  {
   "cell_type": "code",
   "execution_count": null,
   "id": "b1f5f807-57e7-4b75-8858-9137c882d0a8",
   "metadata": {},
   "outputs": [],
   "source": [
    "multinomialLRmodel = LogisticRegression(C=1e5, multi_class='multinomial', solver='newton-cg').fit(X_reduced, y.ravel())"
   ]
  },
  {
   "cell_type": "code",
   "execution_count": null,
   "id": "16f94e08-22c5-48d7-a962-0523fb762f6b",
   "metadata": {},
   "outputs": [],
   "source": [
    "multinomialLRmodel.coef_"
   ]
  },
  {
   "cell_type": "code",
   "execution_count": null,
   "id": "5715c597-b85c-4383-abff-c9c81f14cfff",
   "metadata": {
    "tags": []
   },
   "outputs": [],
   "source": [
    "P = multinomialLRmodel.predict_proba(X_reduced)\n",
    "plt.plot(P)\n",
    "plt.grid('on')"
   ]
  },
  {
   "cell_type": "code",
   "execution_count": null,
   "id": "843e7b07-47de-4eee-9cc1-0dec72441bf1",
   "metadata": {},
   "outputs": [],
   "source": [
    "\n"
   ]
  },
  {
   "cell_type": "code",
   "execution_count": null,
   "id": "073e81cf-98aa-4857-9d9d-fd14426183bd",
   "metadata": {},
   "outputs": [],
   "source": [
    "k1 = 200\n",
    "k2 = 200\n",
    "\n",
    "X1 = np.linspace(-3,4,k1)\n",
    "X2 = np.linspace(-1.5,1.5,k2)\n",
    "\n",
    "probs = np.zeros([k2,k1])\n",
    "for i in range(k2):\n",
    "    for j in range(k1):\n",
    "        probs[i,j] = multinomialLRmodel.predict_proba([[ X1[j], X2[i] ]])[0,1]\n",
    "\n",
    "plt.figure(figsize=(5,4))\n",
    "\n",
    "colors = np.array(['blue', 'red', 'green'])\n",
    "plt.scatter(X_reduced[:,0],X_reduced[:,1], s=18, c=colors[y.astype(int)])\n",
    "\n",
    "contour = plt.contour(X1, X2, probs, levels = [.5])\n",
    "\n",
    "#plt.colorbar(contour, label='probability')\n",
    "\n",
    "plt.ylabel('X2');\n",
    "plt.xlabel('X1');\n",
    "plt.grid('on')\n",
    "\n",
    "\n",
    "# Displaying the plot\n",
    "plt.show()\n"
   ]
  },
  {
   "cell_type": "code",
   "execution_count": null,
   "id": "a0b57029-5d7d-4abe-a5ac-4472f476e34d",
   "metadata": {},
   "outputs": [],
   "source": [
    "from matplotlib.colors import ListedColormap\n",
    "custom_cmap = ListedColormap(['#b4a7d6','#93c47d','#fff2cc'])\n",
    "\n",
    "formatter = plt.FuncFormatter(lambda i, *args: iris.target_names[int(i)])\n",
    "\n",
    "k1 = 500\n",
    "k2 = 500\n",
    "\n",
    "X1 = np.linspace(-3.5,4,k1)\n",
    "X2 = np.linspace(-1.5,1.5,k2)\n",
    "\n",
    "x1,x2 = np.meshgrid(X1,X2)\n",
    "\n",
    "X_new = np.c_[x1.ravel(), x2.ravel()]\n",
    "y_pred = multinomialLRmodel.predict(X_new)\n",
    "zz = y_pred.reshape(x1.shape)\n",
    "\n",
    "plt.figure(figsize=(7, 4))\n",
    "plt.contourf(x1, x2, zz, cmap=custom_cmap)\n",
    "plt.scatter(X_reduced[:, 0], X_reduced[:, 1], c=iris.target)\n",
    "plt.colorbar(ticks=[0, 1, 2], format=formatter)\n",
    "\n",
    "plt.tight_layout()\n",
    "plt.show()"
   ]
  }
 ],
 "metadata": {
  "kernelspec": {
   "display_name": "Python 3",
   "language": "python",
   "name": "python3"
  },
  "language_info": {
   "codemirror_mode": {
    "name": "ipython",
    "version": 3
   },
   "file_extension": ".py",
   "mimetype": "text/x-python",
   "name": "python",
   "nbconvert_exporter": "python",
   "pygments_lexer": "ipython3",
   "version": "3.11.9"
  }
 },
 "nbformat": 4,
 "nbformat_minor": 5
}
